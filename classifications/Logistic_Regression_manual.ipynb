{
 "cells": [
  {
   "cell_type": "markdown",
   "id": "6af4964d",
   "metadata": {},
   "source": [
    "# Logistic Regression (Manual)"
   ]
  },
  {
   "cell_type": "markdown",
   "id": "01b08746",
   "metadata": {},
   "source": [
    "## Import Libraries "
   ]
  },
  {
   "cell_type": "code",
   "execution_count": 15,
   "id": "e26384eb",
   "metadata": {},
   "outputs": [],
   "source": [
    "import numpy as np\n",
    "from numpy import log,dot,e,shape\n",
    "\n",
    "import matplotlib.pyplot as plt\n",
    "from sklearn.datasets import make_classification\n",
    "from sklearn.model_selection import train_test_split  "
   ]
  },
  {
   "cell_type": "markdown",
   "id": "872b527b",
   "metadata": {},
   "source": [
    "## Generate Classification Problem for tests"
   ]
  },
  {
   "cell_type": "code",
   "execution_count": 16,
   "id": "036b2d4b",
   "metadata": {},
   "outputs": [],
   "source": [
    "np.random.seed(1)\n",
    "X, y = make_classification(n_features = 4,n_classes=2)\n",
    "X_tr,X_te,y_tr,y_te = train_test_split(X,y,test_size=0.1)\n"
   ]
  },
  {
   "cell_type": "markdown",
   "id": "9e45010c",
   "metadata": {},
   "source": [
    "## Visualize the problem"
   ]
  },
  {
   "cell_type": "code",
   "execution_count": 17,
   "id": "1e89a82d",
   "metadata": {},
   "outputs": [
    {
     "data": {
      "text/plain": [
       "(100, 4)"
      ]
     },
     "execution_count": 17,
     "metadata": {},
     "output_type": "execute_result"
    },
    {
     "data": {
      "image/png": "[encoded data removed]",
      "text/plain": [
       "<Figure size 576x432 with 1 Axes>"
      ]
     },
     "metadata": {
      "needs_background": "light"
     },
     "output_type": "display_data"
    }
   ],
   "source": [
    "plt.figure(num=None, figsize=(8,6))\n",
    "plt.scatter(X[:,0], X[:,1], marker='o', c=y, edgecolors='k')\n",
    "plt.xlabel('X0')\n",
    "plt.ylabel('X1')\n",
    "X.shape"
   ]
  },
  {
   "cell_type": "code",
   "execution_count": 23,
   "id": "398f76a4",
   "metadata": {},
   "outputs": [],
   "source": [
    "def standardize(X_tr):\n",
    "    for i in range(shape(X_tr)[1]):\n",
    "        X_tr[:,i] = (X_tr[:, i] - np.mean(X_tr[:,i]))/np.std(X_tr[:,i])\n",
    "def F1_score(y,y_hat):\n",
    "    tp,tn,fp,fn = 0,0,0,0\n",
    "    for i in range(len(y)):\n",
    "        if y[i] == 1 and y_hat[i] == 1:\n",
    "            tp += 1\n",
    "        elif y[i] == 1 and y_hat[i] == 0:\n",
    "            fn += 1\n",
    "        elif y[i] == 0 and y_hat[i] == 1:\n",
    "            fp += 1\n",
    "        elif y[i] == 0 and y_hat[i] == 0:\n",
    "            tn += 1\n",
    "    precision = tp/(tp+fp)\n",
    "    recall = tp/(tp+fn)\n",
    "    f1_score = 2*precision*recall/(precision+recall)\n",
    "    return f1_score"
   ]
  },
  {
   "cell_type": "code",
   "execution_count": 31,
   "id": "1cfe68b7",
   "metadata": {},
   "outputs": [],
   "source": [
    "class LogisticRegression:\n",
    "    def sigmoid(self, z):\n",
    "        return 1.0 / (1 + np.exp(-z))\n",
    "    \n",
    "    def init(self, X):\n",
    "        weights = np.zeros((shape(X)[1]+1, 1))\n",
    "        X = np.c_[np.ones((shape(X)[0], 1)), X]\n",
    "        return weights, X\n",
    "    \n",
    "    def fit(self, X, y, alpha=0.001, iter=100):\n",
    "        params, X = self.init(X)\n",
    "        def cost_function(theta):\n",
    "            z = np.dot(X, theta)\n",
    "            cost0 = y.T.dot(log(self.sigmoid(z)))\n",
    "            cost1 = (1-y).T.dot(log(1-self.sigmoid(z)))\n",
    "            cost = -((cost1 + cost0))/len(y)\n",
    "            return cost\n",
    "        cost_list = np.zeros(iter,)\n",
    "        for i in range(iter):\n",
    "            params = params - alpha * np.dot(X.T, self.sigmoid(np.dot(X, params)) - np.reshape(y,(len(y),1)))\n",
    "            cost_list[i] = cost_function(params)\n",
    "        self.params = params\n",
    "        return cost_list\n",
    "    \n",
    "    def predict(self, X):\n",
    "        z = np.dot(self.init(X)[1], self.params)\n",
    "        lis = []\n",
    "        for i in self.sigmoid(z):\n",
    "            if i > 0.5:\n",
    "                lis.append(1)\n",
    "            else:\n",
    "                lis.append(0)\n",
    "        return lis"
   ]
  },
  {
   "cell_type": "code",
   "execution_count": 37,
   "id": "f2c0c7b6",
   "metadata": {},
   "outputs": [
    {
     "name": "stdout",
     "output_type": "stream",
     "text": [
      "0.9767441860465117\n",
      "0.9090909090909091\n"
     ]
    }
   ],
   "source": [
    "standardize(X_tr)\n",
    "standardize(X_te)\n",
    "obj1 = LogisticRegression()\n",
    "costs = obj1.fit(X_tr,y_tr)\n",
    "y_pred = obj1.predict(X_te)\n",
    "y_train = obj1.predict(X_tr)\n",
    "#Let's see the f1-score for training and testing data\n",
    "f1_score_tr = F1_score(y_tr,y_train)\n",
    "f1_score_te = F1_score(y_te,y_pred)\n",
    "print(f1_score_tr)\n",
    "print(f1_score_te)"
   ]
  },
  {
   "cell_type": "code",
   "execution_count": 38,
   "id": "b60d96d1",
   "metadata": {},
   "outputs": [
    {
     "data": {
      "text/plain": [
       "[<matplotlib.lines.Line2D at 0x17e734cf4c0>]"
      ]
     },
     "execution_count": 38,
     "metadata": {},
     "output_type": "execute_result"
    },
    {
     "data": {
      "image/png": "[encoded data removed]",
      "text/plain": [
       "<Figure size 432x288 with 1 Axes>"
      ]
     },
     "metadata": {
      "needs_background": "light"
     },
     "output_type": "display_data"
    }
   ],
   "source": [
    "plt.plot(range(len(model)), costs)"
   ]
  },
  {
   "cell_type": "code",
   "execution_count": 39,
   "id": "1e0ebd38",
   "metadata": {},
   "outputs": [
    {
     "data": {
      "text/plain": [
       "[1, 0, 1, 1, 1, 0, 0, 0, 0, 1]"
      ]
     },
     "execution_count": 39,
     "metadata": {},
     "output_type": "execute_result"
    }
   ],
   "source": [
    "y_pred"
   ]
  },
  {
   "cell_type": "code",
   "execution_count": null,
   "id": "19e63400",
   "metadata": {},
   "outputs": [],
   "source": []
  },
  {
   "cell_type": "code",
   "execution_count": null,
   "id": "622ab60d",
   "metadata": {},
   "outputs": [],
   "source": []
  }
 ],
 "metadata": {
  "kernelspec": {
   "display_name": "Python 3 (ipykernel)",
   "language": "python",
   "name": "python3"
  },
  "language_info": {
   "codemirror_mode": {
    "name": "ipython",
    "version": 3
   },
   "file_extension": ".py",
   "mimetype": "text/x-python",
   "name": "python",
   "nbconvert_exporter": "python",
   "pygments_lexer": "ipython3",
   "version": "3.10.4"
  }
 },
 "nbformat": 4,
 "nbformat_minor": 5
}
