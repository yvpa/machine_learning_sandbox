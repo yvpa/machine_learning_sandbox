{
 "cells": [
  {
   "cell_type": "markdown",
   "id": "75cab9cb",
   "metadata": {},
   "source": [
    "# Import Libraries"
   ]
  },
  {
   "cell_type": "code",
   "execution_count": 1,
   "id": "e34f58d1",
   "metadata": {},
   "outputs": [],
   "source": [
    "import numpy as np\n",
    "from sklearn.datasets import make_regression\n",
    "import matplotlib.pyplot as plt"
   ]
  },
  {
   "cell_type": "markdown",
   "id": "e2ab17e5",
   "metadata": {},
   "source": [
    "# Create and Visualize Dataset"
   ]
  },
  {
   "cell_type": "code",
   "execution_count": 2,
   "id": "2f7d966b",
   "metadata": {},
   "outputs": [
    {
     "data": {
      "text/plain": [
       "<matplotlib.collections.PathCollection at 0x1df173e1240>"
      ]
     },
     "execution_count": 2,
     "metadata": {},
     "output_type": "execute_result"
    },
    {
     "data": {
      "image/png": "[encoded data removed]",
      "text/plain": [
       "<Figure size 432x288 with 1 Axes>"
      ]
     },
     "metadata": {
      "needs_background": "light"
     },
     "output_type": "display_data"
    }
   ],
   "source": [
    "x,y = make_regression(n_samples=100, n_features=1, noise=10)\n",
    "y = y + abs(y/2)\n",
    "plt.scatter(x, y)"
   ]
  },
  {
   "cell_type": "code",
   "execution_count": 3,
   "id": "d6b933d2",
   "metadata": {},
   "outputs": [
    {
     "name": "stdout",
     "output_type": "stream",
     "text": [
      "(100, 1)\n",
      "(100,)\n"
     ]
    }
   ],
   "source": [
    "print(x.shape)\n",
    "print(y.shape)"
   ]
  },
  {
   "cell_type": "code",
   "execution_count": 4,
   "id": "eea57d7f",
   "metadata": {},
   "outputs": [
    {
     "name": "stdout",
     "output_type": "stream",
     "text": [
      "(100, 1)\n"
     ]
    }
   ],
   "source": [
    "# reshape y to be 100x1\n",
    "y = y.reshape(y.shape[0], 1)\n",
    "print(y.shape)"
   ]
  },
  {
   "cell_type": "code",
   "execution_count": 5,
   "id": "a2072872",
   "metadata": {},
   "outputs": [
    {
     "name": "stdout",
     "output_type": "stream",
     "text": [
      "(100, 3)\n"
     ]
    }
   ],
   "source": [
    "# matrix X with biais column\n",
    "X = np.hstack((x, np.ones(x.shape)))\n",
    "X = np.hstack((x**2, X))\n",
    "print(X.shape)"
   ]
  },
  {
   "cell_type": "code",
   "execution_count": 6,
   "id": "9036b018",
   "metadata": {},
   "outputs": [
    {
     "data": {
      "text/plain": [
       "array([[-0.58203098],\n",
       "       [-0.46453849],\n",
       "       [-0.71587627]])"
      ]
     },
     "execution_count": 6,
     "metadata": {},
     "output_type": "execute_result"
    }
   ],
   "source": [
    "theta = np.random.randn(3, 1)\n",
    "theta"
   ]
  },
  {
   "cell_type": "markdown",
   "id": "58b3a750",
   "metadata": {},
   "source": [
    "# Modele"
   ]
  },
  {
   "cell_type": "code",
   "execution_count": 7,
   "id": "9d698407",
   "metadata": {},
   "outputs": [],
   "source": [
    "def model(X, theta):\n",
    "    return X.dot(theta)"
   ]
  },
  {
   "cell_type": "code",
   "execution_count": 8,
   "id": "dbe01f88",
   "metadata": {},
   "outputs": [
    {
     "data": {
      "text/plain": [
       "[<matplotlib.lines.Line2D at 0x1df174e22c0>]"
      ]
     },
     "execution_count": 8,
     "metadata": {},
     "output_type": "execute_result"
    },
    {
     "data": {
      "image/png": "[encoded data removed]",
      "text/plain": [
       "<Figure size 432x288 with 1 Axes>"
      ]
     },
     "metadata": {
      "needs_background": "light"
     },
     "output_type": "display_data"
    }
   ],
   "source": [
    "F = model(X, theta)\n",
    "plt.scatter(x,y)\n",
    "plt.plot(x, F)"
   ]
  },
  {
   "cell_type": "markdown",
   "id": "35fb2080",
   "metadata": {},
   "source": [
    "# Cost Function"
   ]
  },
  {
   "cell_type": "code",
   "execution_count": 9,
   "id": "db23aa34",
   "metadata": {},
   "outputs": [],
   "source": [
    "def cost_function(X, y, theta):\n",
    "    m = len(y)\n",
    "    return 1/(2*m) * np.sum((model(X, theta) -y)**2)"
   ]
  },
  {
   "cell_type": "code",
   "execution_count": 10,
   "id": "42c4da20",
   "metadata": {},
   "outputs": [
    {
     "data": {
      "text/plain": [
       "1479.2355123461382"
      ]
     },
     "execution_count": 10,
     "metadata": {},
     "output_type": "execute_result"
    }
   ],
   "source": [
    "cost_function(X, y ,theta)"
   ]
  },
  {
   "cell_type": "markdown",
   "id": "95573f1a",
   "metadata": {},
   "source": [
    "# Gradient Descent"
   ]
  },
  {
   "cell_type": "code",
   "execution_count": 11,
   "id": "0c42e528",
   "metadata": {},
   "outputs": [],
   "source": [
    "def gradient(X, y, theta):\n",
    "    m = len(y)\n",
    "    return 1/m * X.T.dot(model(X, theta) - y)"
   ]
  },
  {
   "cell_type": "code",
   "execution_count": 12,
   "id": "b59fa025",
   "metadata": {},
   "outputs": [],
   "source": [
    "def gradient_descent(X, y, theta, learning_rate, n_iterations):\n",
    "    cost_history = np.zeros(n_iterations)\n",
    "    for i in range(0, n_iterations):\n",
    "        theta = theta - learning_rate * gradient(X, y, theta)\n",
    "        cost_history[i] = cost_function(X, y, theta)\n",
    "    return theta, cost_history"
   ]
  },
  {
   "cell_type": "markdown",
   "id": "9a0b7e02",
   "metadata": {},
   "source": [
    "# Training"
   ]
  },
  {
   "cell_type": "code",
   "execution_count": 13,
   "id": "ba260d43",
   "metadata": {},
   "outputs": [],
   "source": [
    "final_theta,cost_history = gradient_descent(X, y, theta, learning_rate=0.01, n_iterations=1000)"
   ]
  },
  {
   "cell_type": "code",
   "execution_count": 14,
   "id": "f1b03ed2",
   "metadata": {},
   "outputs": [
    {
     "data": {
      "text/plain": [
       "array([[ 6.63872393],\n",
       "       [41.98410496],\n",
       "       [11.70782884]])"
      ]
     },
     "execution_count": 14,
     "metadata": {},
     "output_type": "execute_result"
    }
   ],
   "source": [
    "final_theta"
   ]
  },
  {
   "cell_type": "code",
   "execution_count": 15,
   "id": "d442029e",
   "metadata": {},
   "outputs": [
    {
     "data": {
      "text/plain": [
       "[<matplotlib.lines.Line2D at 0x1df1755e020>]"
      ]
     },
     "execution_count": 15,
     "metadata": {},
     "output_type": "execute_result"
    },
    {
     "data": {
      "image/png": "[encoded data removed]",
      "text/plain": [
       "<Figure size 432x288 with 1 Axes>"
      ]
     },
     "metadata": {
      "needs_background": "light"
     },
     "output_type": "display_data"
    }
   ],
   "source": [
    "predictions = model(X, final_theta)\n",
    "plt.scatter(x, y)\n",
    "plt.scatter(x, predictions, c='r')"
   ]
  },
  {
   "cell_type": "markdown",
   "id": "d6b01ea7",
   "metadata": {},
   "source": [
    "# Learning Curve"
   ]
  },
  {
   "cell_type": "code",
   "execution_count": 16,
   "id": "07873dd5",
   "metadata": {},
   "outputs": [
    {
     "data": {
      "text/plain": [
       "[<matplotlib.lines.Line2D at 0x1df175cd270>]"
      ]
     },
     "execution_count": 16,
     "metadata": {},
     "output_type": "execute_result"
    },
    {
     "data": {
      "image/png": "[encoded data removed]",
      "text/plain": [
       "<Figure size 432x288 with 1 Axes>"
      ]
     },
     "metadata": {
      "needs_background": "light"
     },
     "output_type": "display_data"
    }
   ],
   "source": [
    "plt.plot(range(1000), cost_history)"
   ]
  },
  {
   "cell_type": "markdown",
   "id": "5bbee169",
   "metadata": {},
   "source": [
    "# Determination Coefficient"
   ]
  },
  {
   "cell_type": "code",
   "execution_count": 17,
   "id": "803e6d84",
   "metadata": {},
   "outputs": [],
   "source": [
    "def determination_coeff(y, predictions):\n",
    "    u = ((y - predictions)**2).sum() \n",
    "    v = ((y - y.mean())**2).sum()\n",
    "    return 1 - u/v"
   ]
  },
  {
   "cell_type": "code",
   "execution_count": 18,
   "id": "fe385070",
   "metadata": {},
   "outputs": [
    {
     "data": {
      "text/plain": [
       "0.946342362431985"
      ]
     },
     "execution_count": 18,
     "metadata": {},
     "output_type": "execute_result"
    }
   ],
   "source": [
    "determination_coeff(y, predictions)"
   ]
  },
  {
   "cell_type": "code",
   "execution_count": null,
   "id": "52d6f150",
   "metadata": {},
   "outputs": [],
   "source": []
  },
  {
   "cell_type": "code",
   "execution_count": null,
   "id": "5640228e",
   "metadata": {},
   "outputs": [],
   "source": []
  }
 ],
 "metadata": {
  "kernelspec": {
   "display_name": "Python 3 (ipykernel)",
   "language": "python",
   "name": "python3"
  },
  "language_info": {
   "codemirror_mode": {
    "name": "ipython",
    "version": 3
   },
   "file_extension": ".py",
   "mimetype": "text/x-python",
   "name": "python",
   "nbconvert_exporter": "python",
   "pygments_lexer": "ipython3",
   "version": "3.10.4"
  }
 },
 "nbformat": 4,
 "nbformat_minor": 5
}
